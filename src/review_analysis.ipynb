{
 "cells": [
  {
   "cell_type": "code",
   "execution_count": 133,
   "metadata": {
    "collapsed": true
   },
   "outputs": [],
   "source": [
    "import pandas as pd\n",
    "import numpy as np\n",
    "import seaborn as sns\n",
    "import string\n",
    "\n",
    "import nltk\n",
    "from nltk.corpus import stopwords\n",
    "from sklearn.feature_extraction.text import CountVectorizer, TfidfVectorizer\n",
    "from sklearn.model_selection import train_test_split\n",
    "from sklearn.linear_model import LogisticRegression, SGDClassifier\n",
    "from sklearn.ensemble import RandomForestClassifier\n",
    "from sklearn.neural_network import MLPClassifier\n",
    "from sklearn.naive_bayes import MultinomialNB"
   ]
  },
  {
   "cell_type": "code",
   "execution_count": 3,
   "metadata": {},
   "outputs": [
    {
     "data": {
      "text/html": [
       "<div>\n",
       "<style>\n",
       "    .dataframe thead tr:only-child th {\n",
       "        text-align: right;\n",
       "    }\n",
       "\n",
       "    .dataframe thead th {\n",
       "        text-align: left;\n",
       "    }\n",
       "\n",
       "    .dataframe tbody tr th {\n",
       "        vertical-align: top;\n",
       "    }\n",
       "</style>\n",
       "<table border=\"1\" class=\"dataframe\">\n",
       "  <thead>\n",
       "    <tr style=\"text-align: right;\">\n",
       "      <th></th>\n",
       "      <th>Unnamed: 0</th>\n",
       "      <th>Clothing ID</th>\n",
       "      <th>Age</th>\n",
       "      <th>Title</th>\n",
       "      <th>Review Text</th>\n",
       "      <th>Rating</th>\n",
       "      <th>Recommended IND</th>\n",
       "      <th>Positive Feedback Count</th>\n",
       "      <th>Division Name</th>\n",
       "      <th>Department Name</th>\n",
       "      <th>Class Name</th>\n",
       "    </tr>\n",
       "  </thead>\n",
       "  <tbody>\n",
       "    <tr>\n",
       "      <th>0</th>\n",
       "      <td>0</td>\n",
       "      <td>767</td>\n",
       "      <td>33</td>\n",
       "      <td>NaN</td>\n",
       "      <td>Absolutely wonderful - silky and sexy and comf...</td>\n",
       "      <td>4</td>\n",
       "      <td>1</td>\n",
       "      <td>0</td>\n",
       "      <td>Initmates</td>\n",
       "      <td>Intimate</td>\n",
       "      <td>Intimates</td>\n",
       "    </tr>\n",
       "    <tr>\n",
       "      <th>1</th>\n",
       "      <td>1</td>\n",
       "      <td>1080</td>\n",
       "      <td>34</td>\n",
       "      <td>NaN</td>\n",
       "      <td>Love this dress!  it's sooo pretty.  i happene...</td>\n",
       "      <td>5</td>\n",
       "      <td>1</td>\n",
       "      <td>4</td>\n",
       "      <td>General</td>\n",
       "      <td>Dresses</td>\n",
       "      <td>Dresses</td>\n",
       "    </tr>\n",
       "    <tr>\n",
       "      <th>2</th>\n",
       "      <td>2</td>\n",
       "      <td>1077</td>\n",
       "      <td>60</td>\n",
       "      <td>Some major design flaws</td>\n",
       "      <td>I had such high hopes for this dress and reall...</td>\n",
       "      <td>3</td>\n",
       "      <td>0</td>\n",
       "      <td>0</td>\n",
       "      <td>General</td>\n",
       "      <td>Dresses</td>\n",
       "      <td>Dresses</td>\n",
       "    </tr>\n",
       "    <tr>\n",
       "      <th>3</th>\n",
       "      <td>3</td>\n",
       "      <td>1049</td>\n",
       "      <td>50</td>\n",
       "      <td>My favorite buy!</td>\n",
       "      <td>I love, love, love this jumpsuit. it's fun, fl...</td>\n",
       "      <td>5</td>\n",
       "      <td>1</td>\n",
       "      <td>0</td>\n",
       "      <td>General Petite</td>\n",
       "      <td>Bottoms</td>\n",
       "      <td>Pants</td>\n",
       "    </tr>\n",
       "    <tr>\n",
       "      <th>4</th>\n",
       "      <td>4</td>\n",
       "      <td>847</td>\n",
       "      <td>47</td>\n",
       "      <td>Flattering shirt</td>\n",
       "      <td>This shirt is very flattering to all due to th...</td>\n",
       "      <td>5</td>\n",
       "      <td>1</td>\n",
       "      <td>6</td>\n",
       "      <td>General</td>\n",
       "      <td>Tops</td>\n",
       "      <td>Blouses</td>\n",
       "    </tr>\n",
       "  </tbody>\n",
       "</table>\n",
       "</div>"
      ],
      "text/plain": [
       "   Unnamed: 0  Clothing ID  Age                    Title  \\\n",
       "0           0          767   33                      NaN   \n",
       "1           1         1080   34                      NaN   \n",
       "2           2         1077   60  Some major design flaws   \n",
       "3           3         1049   50         My favorite buy!   \n",
       "4           4          847   47         Flattering shirt   \n",
       "\n",
       "                                         Review Text  Rating  Recommended IND  \\\n",
       "0  Absolutely wonderful - silky and sexy and comf...       4                1   \n",
       "1  Love this dress!  it's sooo pretty.  i happene...       5                1   \n",
       "2  I had such high hopes for this dress and reall...       3                0   \n",
       "3  I love, love, love this jumpsuit. it's fun, fl...       5                1   \n",
       "4  This shirt is very flattering to all due to th...       5                1   \n",
       "\n",
       "   Positive Feedback Count   Division Name Department Name Class Name  \n",
       "0                        0       Initmates        Intimate  Intimates  \n",
       "1                        4         General         Dresses    Dresses  \n",
       "2                        0         General         Dresses    Dresses  \n",
       "3                        0  General Petite         Bottoms      Pants  \n",
       "4                        6         General            Tops    Blouses  "
      ]
     },
     "execution_count": 3,
     "metadata": {},
     "output_type": "execute_result"
    }
   ],
   "source": [
    "#read table\n",
    "dat = pd.read_csv('../data/data.csv')\n",
    "dat.head()"
   ]
  },
  {
   "cell_type": "code",
   "execution_count": 70,
   "metadata": {},
   "outputs": [],
   "source": [
    "#drop the first column\n",
    "dat1=dat.drop(['Unnamed: 0'],axis=1)"
   ]
  },
  {
   "cell_type": "code",
   "execution_count": 71,
   "metadata": {},
   "outputs": [],
   "source": [
    "#drop all NA\n",
    "cleandat = dat1.dropna()"
   ]
  },
  {
   "cell_type": "code",
   "execution_count": 72,
   "metadata": {},
   "outputs": [],
   "source": [
    "#drop Rating and Recommended IND\n",
    "dat_no_rat = cleandat.drop(['Rating'],axis=1).reset_index(drop=True)\n",
    "dat_no_Rec = cleandat.drop(['Recommended IND'],axis=1).reset_index(drop=True)"
   ]
  },
  {
   "cell_type": "code",
   "execution_count": 116,
   "metadata": {},
   "outputs": [
    {
     "name": "stdout",
     "output_type": "stream",
     "text": [
      "row number: 19662\n"
     ]
    }
   ],
   "source": [
    "print(\"row number:\",dat_no_rat.shape[0])"
   ]
  },
  {
   "cell_type": "code",
   "execution_count": 53,
   "metadata": {},
   "outputs": [
    {
     "data": {
      "text/html": [
       "<div>\n",
       "<style>\n",
       "    .dataframe thead tr:only-child th {\n",
       "        text-align: right;\n",
       "    }\n",
       "\n",
       "    .dataframe thead th {\n",
       "        text-align: left;\n",
       "    }\n",
       "\n",
       "    .dataframe tbody tr th {\n",
       "        vertical-align: top;\n",
       "    }\n",
       "</style>\n",
       "<table border=\"1\" class=\"dataframe\">\n",
       "  <thead>\n",
       "    <tr style=\"text-align: right;\">\n",
       "      <th></th>\n",
       "      <th>Clothing ID</th>\n",
       "      <th>Age</th>\n",
       "      <th>Positive Feedback Count</th>\n",
       "    </tr>\n",
       "    <tr>\n",
       "      <th>Recommended IND</th>\n",
       "      <th></th>\n",
       "      <th></th>\n",
       "      <th></th>\n",
       "    </tr>\n",
       "  </thead>\n",
       "  <tbody>\n",
       "    <tr>\n",
       "      <th>0</th>\n",
       "      <td>926.797203</td>\n",
       "      <td>42.340140</td>\n",
       "      <td>3.388252</td>\n",
       "    </tr>\n",
       "    <tr>\n",
       "      <th>1</th>\n",
       "      <td>920.075030</td>\n",
       "      <td>43.465407</td>\n",
       "      <td>2.488966</td>\n",
       "    </tr>\n",
       "  </tbody>\n",
       "</table>\n",
       "</div>"
      ],
      "text/plain": [
       "                 Clothing ID        Age  Positive Feedback Count\n",
       "Recommended IND                                                 \n",
       "0                 926.797203  42.340140                 3.388252\n",
       "1                 920.075030  43.465407                 2.488966"
      ]
     },
     "execution_count": 53,
     "metadata": {},
     "output_type": "execute_result"
    }
   ],
   "source": [
    "dat_no_rat.groupby('Recommended IND').mean().head()"
   ]
  },
  {
   "cell_type": "code",
   "execution_count": 73,
   "metadata": {},
   "outputs": [],
   "source": [
    "# we have two text column, which are Title and Reviews\n",
    "# I want to predict Recommended IND\n",
    "\n",
    "X1 = dat_no_rat['Title']\n",
    "X2 = dat_no_rat['Review Text']\n",
    "y = dat_no_rat['Recommended IND']"
   ]
  },
  {
   "cell_type": "code",
   "execution_count": 80,
   "metadata": {},
   "outputs": [
    {
     "data": {
      "text/plain": [
       "'I had such high hopes for this dress and really wanted it to work for me. i initially ordered the petite small (my usual size) but i found this to be outrageously small. so small in fact that i could not zip it up! i reordered it in petite medium, which was just ok. overall, the top half was comfortable and fit nicely, but the bottom half had a very tight under layer and several somewhat cheap (net) over layers. imo, a major design flaw was the net over layer sewn directly into the zipper - it c'"
      ]
     },
     "execution_count": 80,
     "metadata": {},
     "output_type": "execute_result"
    }
   ],
   "source": [
    "# have a look on the text\n",
    "X2[0]"
   ]
  },
  {
   "cell_type": "code",
   "execution_count": 100,
   "metadata": {},
   "outputs": [],
   "source": [
    "#remove punctuation and stopwords\n",
    "def preprocess(review):\n",
    "    nopunc = [i for i in review if i not in string.punctuation]\n",
    "    re1 = ''.join(nopunc)\n",
    "    re2 = [j for j in re1.split() if j.lower() not in stopwords.words('english')]\n",
    "    return re2"
   ]
  },
  {
   "cell_type": "code",
   "execution_count": 102,
   "metadata": {},
   "outputs": [
    {
     "data": {
      "text/plain": [
       "['high',\n",
       " 'hopes',\n",
       " 'dress',\n",
       " 'really',\n",
       " 'wanted',\n",
       " 'work',\n",
       " 'initially',\n",
       " 'ordered',\n",
       " 'petite',\n",
       " 'small',\n",
       " 'usual',\n",
       " 'size',\n",
       " 'found',\n",
       " 'outrageously',\n",
       " 'small',\n",
       " 'small',\n",
       " 'fact',\n",
       " 'could',\n",
       " 'zip',\n",
       " 'reordered',\n",
       " 'petite',\n",
       " 'medium',\n",
       " 'ok',\n",
       " 'overall',\n",
       " 'top',\n",
       " 'half',\n",
       " 'comfortable',\n",
       " 'fit',\n",
       " 'nicely',\n",
       " 'bottom',\n",
       " 'half',\n",
       " 'tight',\n",
       " 'layer',\n",
       " 'several',\n",
       " 'somewhat',\n",
       " 'cheap',\n",
       " 'net',\n",
       " 'layers',\n",
       " 'imo',\n",
       " 'major',\n",
       " 'design',\n",
       " 'flaw',\n",
       " 'net',\n",
       " 'layer',\n",
       " 'sewn',\n",
       " 'directly',\n",
       " 'zipper',\n",
       " 'c']"
      ]
     },
     "execution_count": 102,
     "metadata": {},
     "output_type": "execute_result"
    }
   ],
   "source": [
    "preprocess(X2[0])"
   ]
  },
  {
   "cell_type": "code",
   "execution_count": 107,
   "metadata": {},
   "outputs": [],
   "source": [
    "# Convert the text into a matric of token counts\n",
    "bag1 = CountVectorizer(analyzer = preprocess).fit(X1)"
   ]
  },
  {
   "cell_type": "code",
   "execution_count": 117,
   "metadata": {
    "collapsed": true
   },
   "outputs": [],
   "source": [
    "bag2 = CountVectorizer(analyzer = preprocess).fit(X2)"
   ]
  },
  {
   "cell_type": "code",
   "execution_count": 118,
   "metadata": {},
   "outputs": [
    {
     "name": "stdout",
     "output_type": "stream",
     "text": [
      "number of words in Title 4954\n",
      "number of words in Review 18745\n"
     ]
    }
   ],
   "source": [
    "#overview of Title and Review\n",
    "print('number of words in Title', len(bag1.vocabulary_))\n",
    "print('number of words in Review',len(bag2.vocabulary_))"
   ]
  },
  {
   "cell_type": "code",
   "execution_count": 149,
   "metadata": {},
   "outputs": [],
   "source": [
    "# represent as a vector\n",
    "# bag1 for Title bag2 for Reviews\n",
    "bag1_vec = bag1.transform(X1)\n",
    "bag2_vec = bag2.transform(X2)"
   ]
  },
  {
   "cell_type": "code",
   "execution_count": 150,
   "metadata": {
    "collapsed": true
   },
   "outputs": [],
   "source": [
    "#split dataset into training and testing\n",
    "X1_train, X1_test, y_train, y_test = train_test_split(bag1_vec,y,test_size =0.2,random_state = 101)"
   ]
  },
  {
   "cell_type": "code",
   "execution_count": 188,
   "metadata": {},
   "outputs": [
    {
     "name": "stdout",
     "output_type": "stream",
     "text": [
      "Fitting logistic regression...\n",
      "  training error: 0.092250\n",
      "  test     error: 0.120010\n",
      "Fitting random forest...\n",
      "  training error: 0.033251\n",
      "  test     error: 0.162471\n",
      "Fitting neural network...\n",
      "  training error: 0.069744\n",
      "  test     error: 0.109840\n",
      "Fitting naive bayes...\n",
      "  training error: 0.095111\n",
      "  test     error: 0.130943\n"
     ]
    },
    {
     "name": "stderr",
     "output_type": "stream",
     "text": [
      "/Users/Fang/anaconda/lib/python3.6/site-packages/sklearn/neural_network/multilayer_perceptron.py:564: ConvergenceWarning: Stochastic Optimizer: Maximum iterations (5) reached and the optimization hasn't converged yet.\n",
      "  % self.max_iter, ConvergenceWarning)\n"
     ]
    }
   ],
   "source": [
    "#learn models(Recommended IND)\n",
    "models = {\n",
    "    \"logistic regression\" : LogisticRegression(penalty = 'l2'),\n",
    "    \"random forest\"       : RandomForestClassifier(),\n",
    "    \"neural network\"      : MLPClassifier(max_iter=5,alpha=0.01),\n",
    "    \"naive bayes\"         : MultinomialNB()\n",
    "}\n",
    "\n",
    "for name, model in models.items():\n",
    "    print(\"Fitting %s...\" % name)\n",
    "    model.fit(X1_train, y_train);\n",
    "    print(\"  training error: %f\" % (1-model.score(X1_train, y_train)))\n",
    "    print(\"  test     error: %f\" % (1-model.score(X1_test, y_test)))"
   ]
  },
  {
   "cell_type": "code",
   "execution_count": 173,
   "metadata": {},
   "outputs": [],
   "source": [
    "#split dataset\n",
    "X2_train, X2_test, y_train, y_test = train_test_split(bag2_vec,y,test_size =0.2,random_state = 101)"
   ]
  },
  {
   "cell_type": "code",
   "execution_count": 174,
   "metadata": {},
   "outputs": [
    {
     "name": "stdout",
     "output_type": "stream",
     "text": [
      "Fitting logistic regression...\n",
      "  training error: 0.036048\n",
      "  test     error: 0.113145\n",
      "Fitting random forest...\n",
      "  training error: 0.005023\n",
      "  test     error: 0.143911\n",
      "Fitting neural network...\n",
      "  training error: 0.025494\n",
      "  test     error: 0.110603\n",
      "Fitting naive bayes...\n",
      "  training error: 0.073876\n",
      "  test     error: 0.118739\n"
     ]
    },
    {
     "name": "stderr",
     "output_type": "stream",
     "text": [
      "/Users/Fang/anaconda/lib/python3.6/site-packages/sklearn/neural_network/multilayer_perceptron.py:564: ConvergenceWarning: Stochastic Optimizer: Maximum iterations (5) reached and the optimization hasn't converged yet.\n",
      "  % self.max_iter, ConvergenceWarning)\n"
     ]
    }
   ],
   "source": [
    "#learn models(Recommended IND)\n",
    "models = {\n",
    "    \"logistic regression\" : LogisticRegression(penalty = 'l2'),\n",
    "    \"random forest\"       : RandomForestClassifier(),\n",
    "    \"neural network\"      : MLPClassifier(max_iter=5,alpha=0.01),\n",
    "    \"naive bayes\"         : MultinomialNB()\n",
    "}\n",
    "\n",
    "for name, model in models.items():\n",
    "    print(\"Fitting %s...\" % name)\n",
    "    model.fit(X2_train, y_train);\n",
    "    print(\"  training error: %f\" % (1-model.score(X2_train, y_train)))\n",
    "    print(\"  test     error: %f\" % (1-model.score(X2_test, y_test)))"
   ]
  },
  {
   "cell_type": "code",
   "execution_count": 193,
   "metadata": {
    "collapsed": true
   },
   "outputs": [],
   "source": [
    "#function to predict Recommended IND using title\n",
    "def title_predict(text):\n",
    "    a = bag1.transform([text])\n",
    "    model = MLPClassifier(max_iter=5,alpha=0.01)\n",
    "    model.fit(X1_train, y_train)\n",
    "    return model.predict(a)[0]"
   ]
  },
  {
   "cell_type": "code",
   "execution_count": 234,
   "metadata": {},
   "outputs": [
    {
     "name": "stderr",
     "output_type": "stream",
     "text": [
      "/Users/Fang/anaconda/lib/python3.6/site-packages/sklearn/neural_network/multilayer_perceptron.py:564: ConvergenceWarning: Stochastic Optimizer: Maximum iterations (5) reached and the optimization hasn't converged yet.\n",
      "  % self.max_iter, ConvergenceWarning)\n"
     ]
    },
    {
     "data": {
      "text/plain": [
       "True"
      ]
     },
     "execution_count": 234,
     "metadata": {},
     "output_type": "execute_result"
    }
   ],
   "source": [
    "#check our result\n",
    "title_predict(X1[0]) == 0"
   ]
  },
  {
   "cell_type": "code",
   "execution_count": 235,
   "metadata": {},
   "outputs": [
    {
     "name": "stderr",
     "output_type": "stream",
     "text": [
      "/Users/Fang/anaconda/lib/python3.6/site-packages/sklearn/neural_network/multilayer_perceptron.py:564: ConvergenceWarning: Stochastic Optimizer: Maximum iterations (5) reached and the optimization hasn't converged yet.\n",
      "  % self.max_iter, ConvergenceWarning)\n"
     ]
    },
    {
     "data": {
      "text/plain": [
       "True"
      ]
     },
     "execution_count": 235,
     "metadata": {},
     "output_type": "execute_result"
    }
   ],
   "source": [
    "#check our result\n",
    "title_predict(X1[1]) == 1"
   ]
  },
  {
   "cell_type": "code",
   "execution_count": 203,
   "metadata": {},
   "outputs": [
    {
     "name": "stderr",
     "output_type": "stream",
     "text": [
      "/Users/Fang/anaconda/lib/python3.6/site-packages/sklearn/neural_network/multilayer_perceptron.py:564: ConvergenceWarning: Stochastic Optimizer: Maximum iterations (5) reached and the optimization hasn't converged yet.\n",
      "  % self.max_iter, ConvergenceWarning)\n"
     ]
    },
    {
     "data": {
      "text/plain": [
       "1"
      ]
     },
     "execution_count": 203,
     "metadata": {},
     "output_type": "execute_result"
    }
   ],
   "source": [
    "#try sample text\n",
    "text = \"I like it\"\n",
    "title_predict(text)"
   ]
  },
  {
   "cell_type": "code",
   "execution_count": 199,
   "metadata": {
    "collapsed": true
   },
   "outputs": [],
   "source": [
    "#function to predict Recommended IND using review\n",
    "def review_predict(text):\n",
    "    a = bag2.transform([text])\n",
    "    model = LogisticRegression(penalty = 'l2')\n",
    "    model.fit(X2_train, y_train)\n",
    "    return model.predict(a)[0]"
   ]
  },
  {
   "cell_type": "code",
   "execution_count": 236,
   "metadata": {},
   "outputs": [
    {
     "data": {
      "text/plain": [
       "True"
      ]
     },
     "execution_count": 236,
     "metadata": {},
     "output_type": "execute_result"
    }
   ],
   "source": [
    "review_predict(X2[0]) ==0"
   ]
  },
  {
   "cell_type": "code",
   "execution_count": 237,
   "metadata": {},
   "outputs": [
    {
     "data": {
      "text/plain": [
       "True"
      ]
     },
     "execution_count": 237,
     "metadata": {},
     "output_type": "execute_result"
    }
   ],
   "source": [
    "review_predict(X2[1])==1"
   ]
  },
  {
   "cell_type": "code",
   "execution_count": 202,
   "metadata": {},
   "outputs": [
    {
     "data": {
      "text/plain": [
       "1"
      ]
     },
     "execution_count": 202,
     "metadata": {},
     "output_type": "execute_result"
    }
   ],
   "source": [
    "#try sample text\n",
    "text = \"I like it\"\n",
    "review_predict(text)"
   ]
  },
  {
   "cell_type": "code",
   "execution_count": null,
   "metadata": {
    "collapsed": true
   },
   "outputs": [],
   "source": []
  },
  {
   "cell_type": "code",
   "execution_count": 204,
   "metadata": {
    "collapsed": true
   },
   "outputs": [],
   "source": [
    "#set y1 as Rating\n",
    "y1 = dat_no_Rec['Rating']"
   ]
  },
  {
   "cell_type": "code",
   "execution_count": 206,
   "metadata": {
    "collapsed": true
   },
   "outputs": [],
   "source": [
    "#split dataset\n",
    "X3_train, X3_test, y1_train, y1_test = train_test_split(bag1_vec,y1,test_size =0.2,random_state = 101)\n"
   ]
  },
  {
   "cell_type": "code",
   "execution_count": 230,
   "metadata": {},
   "outputs": [
    {
     "name": "stdout",
     "output_type": "stream",
     "text": [
      "Fitting logistic regression...\n",
      "  training error: 0.301354\n",
      "  test     error: 0.377320\n",
      "Fitting random forest...\n",
      "  training error: 0.449043\n",
      "  test     error: 0.442665\n",
      "Fitting neural network...\n",
      "  training error: 0.259012\n",
      "  test     error: 0.374015\n",
      "Fitting naive bayes...\n",
      "  training error: 0.302880\n",
      "  test     error: 0.384694\n"
     ]
    },
    {
     "name": "stderr",
     "output_type": "stream",
     "text": [
      "/Users/Fang/anaconda/lib/python3.6/site-packages/sklearn/neural_network/multilayer_perceptron.py:564: ConvergenceWarning: Stochastic Optimizer: Maximum iterations (5) reached and the optimization hasn't converged yet.\n",
      "  % self.max_iter, ConvergenceWarning)\n"
     ]
    }
   ],
   "source": [
    "#learn models(Ratings)\n",
    "models = {\n",
    "    \"logistic regression\" : LogisticRegression(),\n",
    "    \"random forest\"       : RandomForestClassifier(max_depth=1,n_estimators=100),\n",
    "    \"neural network\"      : MLPClassifier(max_iter=5,alpha=0.01),\n",
    "    \"naive bayes\"         : MultinomialNB()\n",
    "}\n",
    "\n",
    "for name, model in models.items():\n",
    "    print(\"Fitting %s...\" % name)\n",
    "    model.fit(X3_train, y1_train);\n",
    "    print(\"  training error: %f\" % (1-model.score(X3_train, y1_train)))\n",
    "    print(\"  test     error: %f\" % (1-model.score(X3_test, y1_test)))"
   ]
  },
  {
   "cell_type": "code",
   "execution_count": 231,
   "metadata": {
    "collapsed": true
   },
   "outputs": [],
   "source": [
    "#split dataset\n",
    "X4_train, X4_test, y1_train, y1_test = train_test_split(bag2_vec,y1,test_size =0.2,random_state = 101)"
   ]
  },
  {
   "cell_type": "code",
   "execution_count": 232,
   "metadata": {},
   "outputs": [
    {
     "name": "stdout",
     "output_type": "stream",
     "text": [
      "Fitting logistic regression...\n",
      "  training error: 0.118825\n",
      "  test     error: 0.380880\n",
      "Fitting random forest...\n",
      "  training error: 0.449043\n",
      "  test     error: 0.442665\n",
      "Fitting neural network...\n",
      "  training error: 0.077882\n",
      "  test     error: 0.378337\n",
      "Fitting naive bayes...\n",
      "  training error: 0.251128\n",
      "  test     error: 0.371218\n"
     ]
    },
    {
     "name": "stderr",
     "output_type": "stream",
     "text": [
      "/Users/Fang/anaconda/lib/python3.6/site-packages/sklearn/neural_network/multilayer_perceptron.py:564: ConvergenceWarning: Stochastic Optimizer: Maximum iterations (5) reached and the optimization hasn't converged yet.\n",
      "  % self.max_iter, ConvergenceWarning)\n"
     ]
    }
   ],
   "source": [
    "#learn models(Ratings)\n",
    "models = {\n",
    "    \"logistic regression\" : LogisticRegression(),\n",
    "    \"random forest\"       : RandomForestClassifier(max_depth=1,n_estimators=100),\n",
    "    \"neural network\"      : MLPClassifier(max_iter=5,alpha=0.01),\n",
    "    \"naive bayes\"         : MultinomialNB()\n",
    "}\n",
    "\n",
    "for name, model in models.items():\n",
    "    print(\"Fitting %s...\" % name)\n",
    "    model.fit(X4_train, y1_train);\n",
    "    print(\"  training error: %f\" % (1-model.score(X4_train, y1_train)))\n",
    "    print(\"  test     error: %f\" % (1-model.score(X4_test, y1_test)))"
   ]
  },
  {
   "cell_type": "code",
   "execution_count": 233,
   "metadata": {},
   "outputs": [
    {
     "data": {
      "text/plain": [
       "3"
      ]
     },
     "execution_count": 233,
     "metadata": {},
     "output_type": "execute_result"
    }
   ],
   "source": [
    "#make perdiction\n",
    "text = X2[0]\n",
    "a = bag2.transform([text])\n",
    "model = LogisticRegression(penalty = 'l2')\n",
    "model.fit(X4_train, y1_train)\n",
    "model.predict(a)[0]"
   ]
  },
  {
   "cell_type": "code",
   "execution_count": null,
   "metadata": {
    "collapsed": true
   },
   "outputs": [],
   "source": []
  }
 ],
 "metadata": {
  "kernelspec": {
   "display_name": "Python 3",
   "language": "python",
   "name": "python3"
  },
  "language_info": {
   "codemirror_mode": {
    "name": "ipython",
    "version": 3
   },
   "file_extension": ".py",
   "mimetype": "text/x-python",
   "name": "python",
   "nbconvert_exporter": "python",
   "pygments_lexer": "ipython3",
   "version": "3.6.4"
  }
 },
 "nbformat": 4,
 "nbformat_minor": 2
}
